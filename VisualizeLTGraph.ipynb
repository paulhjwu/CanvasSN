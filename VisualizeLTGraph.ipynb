{
 "cells": [
  {
   "cell_type": "markdown",
   "metadata": {},
   "source": [
    "This is video that can help you prepare Gephi presentation https://www.youtube.com/watch?v=FpOIbhOmGUs"
   ]
  },
  {
   "cell_type": "markdown",
   "metadata": {},
   "source": [
    "Load the Forums in Excel format"
   ]
  },
  {
   "cell_type": "code",
   "execution_count": 7,
   "metadata": {},
   "outputs": [
    {
     "name": "stdout",
     "output_type": "stream",
     "text": [
      "Enter the file name - return to exit\n",
      "Book1\n",
      "./ICT133 Jan 2020/Book1.xlsx\n"
     ]
    }
   ],
   "source": [
    "import pandas as pd\n",
    "import numpy as np\n",
    "\n",
    "df1 = pd.DataFrame(np.nan, index=[0,1,2,3], columns=['A'])\n",
    "\n",
    "import xlwt\n",
    "from xlrd import open_workbook\n",
    "\n",
    "print ('Enter the file name - return to exit')\n",
    "\n",
    "a =input()\n",
    "\n",
    "#Original\n",
    "#inputFile = './' + a + '.csv'\n",
    "\n",
    "#for ICT133 Jan 2020\n",
    "#inputFile = './ICT133 Jan 2020/' + a + '.csv'\n",
    "\n",
    "#for ICT233 Jan 2020\n",
    "inputFile = './ICT133 Jan 2020/' + a + '.xlsx'\n",
    "\n",
    "print(inputFile)\n",
    "\n",
    "df = pd.read_excel(inputFile, encoding=\"utf8\", error_bad_lines=False)\n",
    "#df = pd.read_csv(inputFile, error_bad_lines=False)\n",
    "#print(df)"
   ]
  },
  {
   "cell_type": "markdown",
   "metadata": {},
   "source": [
    "For generating nodes"
   ]
  },
  {
   "cell_type": "code",
   "execution_count": 8,
   "metadata": {},
   "outputs": [
    {
     "name": "stderr",
     "output_type": "stream",
     "text": [
      "C:\\Users\\paulwu\\AppData\\Local\\Continuum\\anaconda3\\lib\\site-packages\\ipykernel_launcher.py:57: SettingWithCopyWarning: \n",
      "A value is trying to be set on a copy of a slice from a DataFrame\n",
      "\n",
      "See the caveats in the documentation: http://pandas.pydata.org/pandas-docs/stable/user_guide/indexing.html#returning-a-view-versus-a-copy\n"
     ]
    }
   ],
   "source": [
    "import numpy as np\n",
    "\n",
    "#df1 = pd.DataFrame(np.nan, index=[0,1,2,3], columns=['Id','Label', 'Title', 'Date'])\n",
    "#print(df1)\n",
    "\n",
    "col_names1 =  ['Id', 'Title', 'Date', 'Count']\n",
    "col_names2 =  ['Id', 'Label']\n",
    "\n",
    "df1  = pd.DataFrame(columns = col_names1)\n",
    "df2  = pd.DataFrame(columns = col_names2)\n",
    "\n",
    "AuthorToId = {}\n",
    "IdToAuthor = {}\n",
    "\n",
    "'''\n",
    "wb = xlwt.Workbook()\n",
    "ws = wb.add_sheet(\"OK\")\n",
    "ws.write(0, 0, 'Id')\n",
    "ws.write(0, 1, 'Label')\n",
    "ws.write(0, 2, 'Title')\n",
    "ws.write(0, 3, 'Date')\n",
    "'''\n",
    "\n",
    "nrow = 1\n",
    "theAuthorId = 0\n",
    "aAuthorId = 0\n",
    "\n",
    "for index, row in df.iterrows():\n",
    "\n",
    "    #print(row)\n",
    "    author = row['Author']\n",
    "    #print(author)\n",
    "\n",
    "    # Add an mapping btw message Id and author name\n",
    "    msgId = row['Id']\n",
    "    IdToAuthor[msgId]=author\n",
    "\n",
    "    # if Dicitonary is empty, just insert the first one mapping btw author and id\n",
    "    if not AuthorToId:\n",
    "        AuthorToId[author] = theAuthorId\n",
    "        #print(AuthorToId)\n",
    "        df1.loc[theAuthorId]=[theAuthorId, row['Title'], row['Date'], int(1)]\n",
    "        df2.loc[theAuthorId]=[theAuthorId, author]\n",
    "        theAuthorId += 1\n",
    "    else: \n",
    "        # Check whether the author already has an id, if yes retrieve, if not, create a new one\n",
    "        aAuthor = AuthorToId.get(author)\n",
    "        # If the author has no Id yet, then assign the running number and increase it by one\n",
    "        if (aAuthor != 0) and (not aAuthor) :\n",
    "            AuthorToId[author] = theAuthorId\n",
    "            df1.loc[theAuthorId]=[theAuthorId, row['Title'], row['Date'], int(1)]\n",
    "            df2.loc[theAuthorId]=[theAuthorId, author]\n",
    "            theAuthorId += 1\n",
    "            #print(AuthorToId)\n",
    "        else:\n",
    "            #print('This author ' + author + ' has multiple topics')\n",
    "            df1.loc[AuthorToId[author]]['Count']=df1.loc[AuthorToId[author]]['Count']+1\n",
    "\n",
    "            \n",
    "#print(df1)\n",
    "df1.to_csv('./ICT133 Jan 2020/Nodes.csv', sep=',', index=False)\n",
    "df2.to_csv('./ICT133 Jan 2020/AToId.csv', sep=',', index=False)\n",
    "#print(AuthorToId)\n",
    "#print(IdToAuthor)\n",
    "#print(AuthorToId)\n",
    "#wb.save(\"./ICT133 Jan 2020/Nodes.csv\")   "
   ]
  },
  {
   "cell_type": "markdown",
   "metadata": {},
   "source": [
    "***** For Generating Edges"
   ]
  },
  {
   "cell_type": "code",
   "execution_count": 9,
   "metadata": {},
   "outputs": [],
   "source": [
    "import numpy as np\n",
    "col_names =  ['Source', 'Target', 'Type', 'Weight', 'Title', 'Date']\n",
    "df2  = pd.DataFrame(columns = col_names)\n",
    "#print(df2)\n",
    "#print(df1)\n",
    "'''\n",
    "wb = xlwt.Workbook()\n",
    "\n",
    "ws = wb.add_sheet(a)\n",
    "\n",
    "ws.write(0, 0, 'Source')\n",
    "ws.write(0, 1, 'Target')\n",
    "ws.write(0, 2, 'Type')\n",
    "ws.write(0, 3, 'Weight')\n",
    "ws.write(0, 4, 'Title')\n",
    "ws.write(0, 5, 'Date')\n",
    "\n",
    "#ws.write(0, 4, 'Message')\n",
    "'''\n",
    "\n",
    "nrow = 0\n",
    "\n",
    "for index, row in df.iterrows():\n",
    "\n",
    "    if row['Parent_Id']!='null' and not (np.isnan(row['Parent_Id'])):\n",
    "        #print(row)\n",
    "        author = row['Author']\n",
    "        #print(author)\n",
    "\n",
    "        # Add an mapping btw message Id and author name\n",
    "        msgId = int(row['Parent_Id'])\n",
    "        targetAuthor=IdToAuthor[msgId]\n",
    "        targetAuthorId=AuthorToId[targetAuthor]\n",
    "        sourceAuthorId=AuthorToId[author]\n",
    "\n",
    "        df2.loc[nrow]=[sourceAuthorId, targetAuthorId, 'Directed', df1.loc[sourceAuthorId]['Count'], row['Title'], row['Date']]\n",
    "        #create the row, and then increment the nrow counter\n",
    "        '''\n",
    "        ws.write(nrow, 0, sourceAuthorId)\n",
    "        ws.write(nrow, 1, targetAuthorId)\n",
    "        ws.write(nrow, 2, 'Directed')\n",
    "        ws.write(nrow, 3, 1)\n",
    "        ws.write(nrow, 4, row['Title'])\n",
    "        ws.write(nrow, 5, row['Date'])\n",
    "        '''\n",
    "        \n",
    "        nrow += 1\n",
    "\n",
    "#print(df2)\n",
    "df2.to_csv('./ICT133 Jan 2020/Edges.csv', sep=',', index=False)\n",
    "#wb.save(\"./Edges.csv\")  "
   ]
  }
 ],
 "metadata": {
  "kernelspec": {
   "display_name": "Python 3",
   "language": "python",
   "name": "python3"
  },
  "language_info": {
   "codemirror_mode": {
    "name": "ipython",
    "version": 3
   },
   "file_extension": ".py",
   "mimetype": "text/x-python",
   "name": "python",
   "nbconvert_exporter": "python",
   "pygments_lexer": "ipython3",
   "version": "3.7.4"
  }
 },
 "nbformat": 4,
 "nbformat_minor": 2
}
